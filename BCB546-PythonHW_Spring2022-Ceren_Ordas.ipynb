{
 "cells": [
  {
   "cell_type": "code",
   "execution_count": 1,
   "id": "49c9552d",
   "metadata": {},
   "outputs": [],
   "source": [
    "# Python Assignment\n",
    "## Ceren Ordas"
   ]
  },
  {
   "cell_type": "code",
   "execution_count": 2,
   "id": "c0a95cd8",
   "metadata": {},
   "outputs": [
    {
     "name": "stdout",
     "output_type": "stream",
     "text": [
      "Requirement already satisfied: biopython in /Users/cerenordas/opt/anaconda3/lib/python3.9/site-packages (1.79)\n",
      "Requirement already satisfied: numpy in /Users/cerenordas/opt/anaconda3/lib/python3.9/site-packages (from biopython) (1.20.3)\n",
      "Note: you may need to restart the kernel to use updated packages.\n"
     ]
    }
   ],
   "source": [
    "pip install biopython #this will install the \"biopython\" package"
   ]
  },
  {
   "cell_type": "code",
   "execution_count": 3,
   "id": "b9384d99",
   "metadata": {},
   "outputs": [],
   "source": [
    "import Bio #to import the biopython package\n",
    "from Bio import Seq #import Seq package within biopython\n",
    "from Bio import SeqIO #import SeqIO package within biopython\n",
    "from Bio.Data import CodonTable #import CodonTable package within biopython\n",
    "from Bio.SeqUtils import GC #import GC package within biopython\n",
    "from Bio.SeqUtils.ProtParam import ProteinAnalysis #import ProteinAnalysis package within biopython\n",
    "import pandas as pd #import the pandas package\n",
    "import numpy as np #import the numpy package\n",
    "import matplotlib.pyplot as plt #import the matplotlib.pyplot package"
   ]
  },
  {
   "cell_type": "code",
   "execution_count": 4,
   "id": "c332418e",
   "metadata": {},
   "outputs": [],
   "source": [
    "# Function 1: Document Dr. X's function with comments and with markdown text."
   ]
  },
  {
   "cell_type": "code",
   "execution_count": 5,
   "id": "d33af988",
   "metadata": {},
   "outputs": [],
   "source": [
    "def get_sequences_from_file(fasta_fn): #to define a new function from our fasta file\n",
    "    sequence_data_dict = {} #to create an empty dictionary\n",
    "    for record in SeqIO.parse(fasta_fn, \"fasta\"): #to identify sequences within our fasta file for every record\n",
    "        description = record.description.split() #to create a new variable \"description\" and to split the entries\n",
    "        species_name = description[1] + \" \" + description[2] #to create the species name from our file\n",
    "        sequence_data_dict[species_name] = record.seq #to assign the right sequence to the right species name\n",
    "    return(sequence_data_dict) ##to return the dictionary"
   ]
  },
  {
   "cell_type": "code",
   "execution_count": 6,
   "id": "84cee10c",
   "metadata": {},
   "outputs": [],
   "source": [
    "# fUNCTION 2: Write a function that translates a string of nucleotides to amino acids based on Dr. X's pseudo-code suggestion."
   ]
  },
  {
   "cell_type": "code",
   "execution_count": 7,
   "id": "b28ecaab",
   "metadata": {},
   "outputs": [
    {
     "name": "stdout",
     "output_type": "stream",
     "text": [
      "Table 2 Vertebrate Mitochondrial, SGC1\n",
      "\n",
      "  |  T      |  C      |  A      |  G      |\n",
      "--+---------+---------+---------+---------+--\n",
      "T | TTT F   | TCT S   | TAT Y   | TGT C   | T\n",
      "T | TTC F   | TCC S   | TAC Y   | TGC C   | C\n",
      "T | TTA L   | TCA S   | TAA Stop| TGA W   | A\n",
      "T | TTG L   | TCG S   | TAG Stop| TGG W   | G\n",
      "--+---------+---------+---------+---------+--\n",
      "C | CTT L   | CCT P   | CAT H   | CGT R   | T\n",
      "C | CTC L   | CCC P   | CAC H   | CGC R   | C\n",
      "C | CTA L   | CCA P   | CAA Q   | CGA R   | A\n",
      "C | CTG L   | CCG P   | CAG Q   | CGG R   | G\n",
      "--+---------+---------+---------+---------+--\n",
      "A | ATT I(s)| ACT T   | AAT N   | AGT S   | T\n",
      "A | ATC I(s)| ACC T   | AAC N   | AGC S   | C\n",
      "A | ATA M(s)| ACA T   | AAA K   | AGA Stop| A\n",
      "A | ATG M(s)| ACG T   | AAG K   | AGG Stop| G\n",
      "--+---------+---------+---------+---------+--\n",
      "G | GTT V   | GCT A   | GAT D   | GGT G   | T\n",
      "G | GTC V   | GCC A   | GAC D   | GGC G   | C\n",
      "G | GTA V   | GCA A   | GAA E   | GGA G   | A\n",
      "G | GTG V(s)| GCG A   | GAG E   | GGG G   | G\n",
      "--+---------+---------+---------+---------+--\n"
     ]
    }
   ],
   "source": [
    "mito_table = CodonTable.unambiguous_dna_by_name[\"Vertebrate Mitochondrial\"] #to create a new table\n",
    "print(mito_table) #to print the table"
   ]
  },
  {
   "cell_type": "code",
   "execution_count": 8,
   "id": "127d4ad4",
   "metadata": {},
   "outputs": [],
   "source": [
    "## Write a function that translates sequences\n",
    "## Complete a function that translates using a loop over the string of nucleotide"
   ]
  },
  {
   "cell_type": "code",
   "execution_count": 9,
   "id": "4b5f908d",
   "metadata": {},
   "outputs": [],
   "source": [
    "def translate_function(string_nucleotides): #to define a function to translate the nucleotides to amino acids.\n",
    "    mito_table = CodonTable.unambiguous_dna_by_name[\"Vertebrate Mitochondrial\"] # to import a codon table of the DNA.\n",
    "    aa_seq_strings = \"\" #to create a new variable in order to put the amino acid sequences in\n",
    "    for i in range(0, len(string_nucleotides), 3):\n",
    "        codon = string_nucleotides[i]+ string_nucleotides[i+1]+string_nucleotides[i+2] #to identify a codon as a set of 3 nucleotides. \n",
    "        if codon == \"TAA\" or codon == \"TAG\" or codon == \"AGA\" or codon == \"AGG\": #to identify a stop codon\n",
    "            break #to stop the function before it reaches the stop codon\n",
    "            #if we don't break the function, the amino acid sequence will contain more AA's than actually exist in the sequence\n",
    "        else: #to continue/go on with the function \n",
    "            aa_seq_strings += mito_table.forward_table[codon] #to translate each codon into an amino acid\n",
    "    return(aa_seq_strings) #to return the completed amino acid sequence"
   ]
  },
  {
   "cell_type": "code",
   "execution_count": 10,
   "id": "6bc13c16",
   "metadata": {},
   "outputs": [
    {
     "data": {
      "text/plain": [
       "'DYVQIAT'"
      ]
     },
     "execution_count": 10,
     "metadata": {},
     "output_type": "execute_result"
    }
   ],
   "source": [
    "dna_to_aa_sequence_eg = \"GACTATGTACAGATCGCTACT\" #to create new variable with a short DNA sequence\n",
    "translate_function(dna_to_aa_sequence_eg) #our function 2 example"
   ]
  },
  {
   "cell_type": "code",
   "execution_count": 11,
   "id": "a71644db",
   "metadata": {},
   "outputs": [],
   "source": [
    "# Function 3: Alternative function to write the translation of nucleotide sequences to amino acids."
   ]
  },
  {
   "cell_type": "code",
   "execution_count": 12,
   "id": "98d325c5",
   "metadata": {},
   "outputs": [],
   "source": [
    "def translate_alt_function(string_nucleotides): #to create alternative function to translate a nucleotide sequence to an amino acid\n",
    "    mito_table = CodonTable.unambiguous_dna_by_name[\"Vertebrate Mitochondrial\"] #we are utilizing the \"Vertebrate Mitochondrial\" codon table from before to translate the nucleotide sequence to amino acids\n",
    "    aa_seq_string = str(Seq.translate(string_nucleotides, mito_table)) [:-1] #with this, we make the AA sequence. Here the \"[:-1]\" will not the stop codon which is the last amino acid sequence on our data\n",
    "    return(aa_seq_string) #this will return the new AA sequence"
   ]
  },
  {
   "cell_type": "code",
   "execution_count": 13,
   "id": "8dce29e6",
   "metadata": {},
   "outputs": [
    {
     "data": {
      "text/plain": [
       "'DYVQIA'"
      ]
     },
     "execution_count": 13,
     "metadata": {},
     "output_type": "execute_result"
    }
   ],
   "source": [
    "dna_to_aa_sequence_eg = \"GACTATGTACAGATCGCTACT\" # here we have the previous example\n",
    "translate_alt_function(dna_to_aa_sequence_eg) #our function 3 example"
   ]
  },
  {
   "cell_type": "code",
   "execution_count": 14,
   "id": "330b5fc3",
   "metadata": {},
   "outputs": [],
   "source": [
    "## IT WORKS WOHOO!"
   ]
  },
  {
   "cell_type": "code",
   "execution_count": 15,
   "id": "04e8e668",
   "metadata": {},
   "outputs": [],
   "source": [
    "# Function 4: Write a function that calculates the molecular weight of each amino acid sequence."
   ]
  },
  {
   "cell_type": "code",
   "execution_count": 16,
   "id": "1aeb90f6",
   "metadata": {},
   "outputs": [],
   "source": [
    "###Use the ProtParam module."
   ]
  },
  {
   "cell_type": "code",
   "execution_count": 17,
   "id": "f1e6efef",
   "metadata": {},
   "outputs": [],
   "source": [
    "from Bio.SeqUtils.ProtParam import ProteinAnalysis #to import the ProteinAnalysis function from ProtParam in BioPython\n",
    "def compute_molecular_weight(aa_seq): #to define the function that quantifies the molecular weight of the amino acid sequence\n",
    "    aa_analysis = ProteinAnalysis(aa_seq) #to calculate the molecular weight of the sequence with the ProteinAnalysis function\n",
    "    return (aa_analysis.molecular_weight()) #to return the molecular weight of the sequence"
   ]
  },
  {
   "cell_type": "code",
   "execution_count": 18,
   "id": "b105dedc",
   "metadata": {},
   "outputs": [
    {
     "data": {
      "text/plain": [
       "879.7737999999999"
      ]
     },
     "execution_count": 18,
     "metadata": {},
     "output_type": "execute_result"
    }
   ],
   "source": [
    "aa_sequence_eg = \"PENGUINS\" #our new example sequence.\n",
    "compute_molecular_weight(aa_sequence_eg)"
   ]
  },
  {
   "cell_type": "code",
   "execution_count": 19,
   "id": "14420300",
   "metadata": {},
   "outputs": [],
   "source": [
    "## WOHOOOO!!"
   ]
  },
  {
   "cell_type": "code",
   "execution_count": 20,
   "id": "f4f6aaf8",
   "metadata": {},
   "outputs": [],
   "source": [
    "# MAIN!"
   ]
  },
  {
   "cell_type": "code",
   "execution_count": 21,
   "id": "aec71e74",
   "metadata": {},
   "outputs": [
    {
     "ename": "FileNotFoundError",
     "evalue": "[Errno 2] No such file or directory: 'penguins_cytb.fasta'",
     "output_type": "error",
     "traceback": [
      "\u001b[0;31m---------------------------------------------------------------------------\u001b[0m",
      "\u001b[0;31mFileNotFoundError\u001b[0m                         Traceback (most recent call last)",
      "\u001b[0;32m/var/folders/lh/ny3fsqvd3znfkdchnb6kl5m40000gn/T/ipykernel_22999/2026227139.py\u001b[0m in \u001b[0;36m<module>\u001b[0;34m\u001b[0m\n\u001b[0;32m----> 1\u001b[0;31m \u001b[0mcytb_seqs\u001b[0m \u001b[0;34m=\u001b[0m \u001b[0mget_sequences_from_file\u001b[0m\u001b[0;34m(\u001b[0m\u001b[0;34m\"penguins_cytb.fasta\"\u001b[0m\u001b[0;34m)\u001b[0m\u001b[0;34m\u001b[0m\u001b[0;34m\u001b[0m\u001b[0m\n\u001b[0m\u001b[1;32m      2\u001b[0m \u001b[0mpenguins_df\u001b[0m \u001b[0;34m=\u001b[0m \u001b[0mpd\u001b[0m\u001b[0;34m.\u001b[0m\u001b[0mread_csv\u001b[0m\u001b[0;34m(\u001b[0m\u001b[0;34m\"penguins_mass.csv\"\u001b[0m\u001b[0;34m)\u001b[0m\u001b[0;34m\u001b[0m\u001b[0;34m\u001b[0m\u001b[0m\n\u001b[1;32m      3\u001b[0m \u001b[0mspecies_list\u001b[0m \u001b[0;34m=\u001b[0m \u001b[0mlist\u001b[0m\u001b[0;34m(\u001b[0m\u001b[0mpenguins_df\u001b[0m\u001b[0;34m.\u001b[0m\u001b[0mspecies\u001b[0m\u001b[0;34m)\u001b[0m\u001b[0;34m\u001b[0m\u001b[0;34m\u001b[0m\u001b[0m\n",
      "\u001b[0;32m/var/folders/lh/ny3fsqvd3znfkdchnb6kl5m40000gn/T/ipykernel_22999/878691491.py\u001b[0m in \u001b[0;36mget_sequences_from_file\u001b[0;34m(fasta_fn)\u001b[0m\n\u001b[1;32m      1\u001b[0m \u001b[0;32mdef\u001b[0m \u001b[0mget_sequences_from_file\u001b[0m\u001b[0;34m(\u001b[0m\u001b[0mfasta_fn\u001b[0m\u001b[0;34m)\u001b[0m\u001b[0;34m:\u001b[0m \u001b[0;31m#to define a new function from our fasta file\u001b[0m\u001b[0;34m\u001b[0m\u001b[0;34m\u001b[0m\u001b[0m\n\u001b[1;32m      2\u001b[0m     \u001b[0msequence_data_dict\u001b[0m \u001b[0;34m=\u001b[0m \u001b[0;34m{\u001b[0m\u001b[0;34m}\u001b[0m \u001b[0;31m#to create an empty dictionary\u001b[0m\u001b[0;34m\u001b[0m\u001b[0;34m\u001b[0m\u001b[0m\n\u001b[0;32m----> 3\u001b[0;31m     \u001b[0;32mfor\u001b[0m \u001b[0mrecord\u001b[0m \u001b[0;32min\u001b[0m \u001b[0mSeqIO\u001b[0m\u001b[0;34m.\u001b[0m\u001b[0mparse\u001b[0m\u001b[0;34m(\u001b[0m\u001b[0mfasta_fn\u001b[0m\u001b[0;34m,\u001b[0m \u001b[0;34m\"fasta\"\u001b[0m\u001b[0;34m)\u001b[0m\u001b[0;34m:\u001b[0m \u001b[0;31m#to identify sequences within our fasta file for every record\u001b[0m\u001b[0;34m\u001b[0m\u001b[0;34m\u001b[0m\u001b[0m\n\u001b[0m\u001b[1;32m      4\u001b[0m         \u001b[0mdescription\u001b[0m \u001b[0;34m=\u001b[0m \u001b[0mrecord\u001b[0m\u001b[0;34m.\u001b[0m\u001b[0mdescription\u001b[0m\u001b[0;34m.\u001b[0m\u001b[0msplit\u001b[0m\u001b[0;34m(\u001b[0m\u001b[0;34m)\u001b[0m \u001b[0;31m#to create a new variable \"description\" and to split the entries\u001b[0m\u001b[0;34m\u001b[0m\u001b[0;34m\u001b[0m\u001b[0m\n\u001b[1;32m      5\u001b[0m         \u001b[0mspecies_name\u001b[0m \u001b[0;34m=\u001b[0m \u001b[0mdescription\u001b[0m\u001b[0;34m[\u001b[0m\u001b[0;36m1\u001b[0m\u001b[0;34m]\u001b[0m \u001b[0;34m+\u001b[0m \u001b[0;34m\" \"\u001b[0m \u001b[0;34m+\u001b[0m \u001b[0mdescription\u001b[0m\u001b[0;34m[\u001b[0m\u001b[0;36m2\u001b[0m\u001b[0;34m]\u001b[0m \u001b[0;31m#to create the species name from our file\u001b[0m\u001b[0;34m\u001b[0m\u001b[0;34m\u001b[0m\u001b[0m\n",
      "\u001b[0;32m~/opt/anaconda3/lib/python3.9/site-packages/Bio/SeqIO/__init__.py\u001b[0m in \u001b[0;36mparse\u001b[0;34m(handle, format, alphabet)\u001b[0m\n\u001b[1;32m    603\u001b[0m     \u001b[0miterator_generator\u001b[0m \u001b[0;34m=\u001b[0m \u001b[0m_FormatToIterator\u001b[0m\u001b[0;34m.\u001b[0m\u001b[0mget\u001b[0m\u001b[0;34m(\u001b[0m\u001b[0mformat\u001b[0m\u001b[0;34m)\u001b[0m\u001b[0;34m\u001b[0m\u001b[0;34m\u001b[0m\u001b[0m\n\u001b[1;32m    604\u001b[0m     \u001b[0;32mif\u001b[0m \u001b[0miterator_generator\u001b[0m\u001b[0;34m:\u001b[0m\u001b[0;34m\u001b[0m\u001b[0;34m\u001b[0m\u001b[0m\n\u001b[0;32m--> 605\u001b[0;31m         \u001b[0;32mreturn\u001b[0m \u001b[0miterator_generator\u001b[0m\u001b[0;34m(\u001b[0m\u001b[0mhandle\u001b[0m\u001b[0;34m)\u001b[0m\u001b[0;34m\u001b[0m\u001b[0;34m\u001b[0m\u001b[0m\n\u001b[0m\u001b[1;32m    606\u001b[0m     \u001b[0;32mif\u001b[0m \u001b[0mformat\u001b[0m \u001b[0;32min\u001b[0m \u001b[0mAlignIO\u001b[0m\u001b[0;34m.\u001b[0m\u001b[0m_FormatToIterator\u001b[0m\u001b[0;34m:\u001b[0m\u001b[0;34m\u001b[0m\u001b[0;34m\u001b[0m\u001b[0m\n\u001b[1;32m    607\u001b[0m         \u001b[0;31m# Use Bio.AlignIO to read in the alignments\u001b[0m\u001b[0;34m\u001b[0m\u001b[0;34m\u001b[0m\u001b[0m\n",
      "\u001b[0;32m~/opt/anaconda3/lib/python3.9/site-packages/Bio/SeqIO/FastaIO.py\u001b[0m in \u001b[0;36m__init__\u001b[0;34m(self, source, alphabet, title2ids)\u001b[0m\n\u001b[1;32m    181\u001b[0m             \u001b[0;32mraise\u001b[0m \u001b[0mValueError\u001b[0m\u001b[0;34m(\u001b[0m\u001b[0;34m\"The alphabet argument is no longer supported\"\u001b[0m\u001b[0;34m)\u001b[0m\u001b[0;34m\u001b[0m\u001b[0;34m\u001b[0m\u001b[0m\n\u001b[1;32m    182\u001b[0m         \u001b[0mself\u001b[0m\u001b[0;34m.\u001b[0m\u001b[0mtitle2ids\u001b[0m \u001b[0;34m=\u001b[0m \u001b[0mtitle2ids\u001b[0m\u001b[0;34m\u001b[0m\u001b[0;34m\u001b[0m\u001b[0m\n\u001b[0;32m--> 183\u001b[0;31m         \u001b[0msuper\u001b[0m\u001b[0;34m(\u001b[0m\u001b[0;34m)\u001b[0m\u001b[0;34m.\u001b[0m\u001b[0m__init__\u001b[0m\u001b[0;34m(\u001b[0m\u001b[0msource\u001b[0m\u001b[0;34m,\u001b[0m \u001b[0mmode\u001b[0m\u001b[0;34m=\u001b[0m\u001b[0;34m\"t\"\u001b[0m\u001b[0;34m,\u001b[0m \u001b[0mfmt\u001b[0m\u001b[0;34m=\u001b[0m\u001b[0;34m\"Fasta\"\u001b[0m\u001b[0;34m)\u001b[0m\u001b[0;34m\u001b[0m\u001b[0;34m\u001b[0m\u001b[0m\n\u001b[0m\u001b[1;32m    184\u001b[0m \u001b[0;34m\u001b[0m\u001b[0m\n\u001b[1;32m    185\u001b[0m     \u001b[0;32mdef\u001b[0m \u001b[0mparse\u001b[0m\u001b[0;34m(\u001b[0m\u001b[0mself\u001b[0m\u001b[0;34m,\u001b[0m \u001b[0mhandle\u001b[0m\u001b[0;34m)\u001b[0m\u001b[0;34m:\u001b[0m\u001b[0;34m\u001b[0m\u001b[0;34m\u001b[0m\u001b[0m\n",
      "\u001b[0;32m~/opt/anaconda3/lib/python3.9/site-packages/Bio/SeqIO/Interfaces.py\u001b[0m in \u001b[0;36m__init__\u001b[0;34m(self, source, alphabet, mode, fmt)\u001b[0m\n\u001b[1;32m     46\u001b[0m             \u001b[0;32mraise\u001b[0m \u001b[0mValueError\u001b[0m\u001b[0;34m(\u001b[0m\u001b[0;34m\"The alphabet argument is no longer supported\"\u001b[0m\u001b[0;34m)\u001b[0m\u001b[0;34m\u001b[0m\u001b[0;34m\u001b[0m\u001b[0m\n\u001b[1;32m     47\u001b[0m         \u001b[0;32mtry\u001b[0m\u001b[0;34m:\u001b[0m\u001b[0;34m\u001b[0m\u001b[0;34m\u001b[0m\u001b[0m\n\u001b[0;32m---> 48\u001b[0;31m             \u001b[0mself\u001b[0m\u001b[0;34m.\u001b[0m\u001b[0mstream\u001b[0m \u001b[0;34m=\u001b[0m \u001b[0mopen\u001b[0m\u001b[0;34m(\u001b[0m\u001b[0msource\u001b[0m\u001b[0;34m,\u001b[0m \u001b[0;34m\"r\"\u001b[0m \u001b[0;34m+\u001b[0m \u001b[0mmode\u001b[0m\u001b[0;34m)\u001b[0m\u001b[0;34m\u001b[0m\u001b[0;34m\u001b[0m\u001b[0m\n\u001b[0m\u001b[1;32m     49\u001b[0m             \u001b[0mself\u001b[0m\u001b[0;34m.\u001b[0m\u001b[0mshould_close_stream\u001b[0m \u001b[0;34m=\u001b[0m \u001b[0;32mTrue\u001b[0m\u001b[0;34m\u001b[0m\u001b[0;34m\u001b[0m\u001b[0m\n\u001b[1;32m     50\u001b[0m         \u001b[0;32mexcept\u001b[0m \u001b[0mTypeError\u001b[0m\u001b[0;34m:\u001b[0m  \u001b[0;31m# not a path, assume we received a stream\u001b[0m\u001b[0;34m\u001b[0m\u001b[0;34m\u001b[0m\u001b[0m\n",
      "\u001b[0;31mFileNotFoundError\u001b[0m: [Errno 2] No such file or directory: 'penguins_cytb.fasta'"
     ]
    }
   ],
   "source": [
    "cytb_seqs = get_sequences_from_file(\"penguins_cytb.fasta\") \n",
    "penguins_df = pd.read_csv(\"penguins_mass.csv\")\n",
    "species_list = list(penguins_df.species)"
   ]
  },
  {
   "cell_type": "code",
   "execution_count": null,
   "id": "a24eb882",
   "metadata": {},
   "outputs": [],
   "source": []
  },
  {
   "cell_type": "code",
   "execution_count": null,
   "id": "6254399b",
   "metadata": {},
   "outputs": [],
   "source": []
  }
 ],
 "metadata": {
  "kernelspec": {
   "display_name": "Python 3 (ipykernel)",
   "language": "python",
   "name": "python3"
  },
  "language_info": {
   "codemirror_mode": {
    "name": "ipython",
    "version": 3
   },
   "file_extension": ".py",
   "mimetype": "text/x-python",
   "name": "python",
   "nbconvert_exporter": "python",
   "pygments_lexer": "ipython3",
   "version": "3.9.7"
  }
 },
 "nbformat": 4,
 "nbformat_minor": 5
}
